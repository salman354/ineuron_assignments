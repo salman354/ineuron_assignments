{
 "cells": [
  {
   "cell_type": "markdown",
   "id": "e3bb5f2d",
   "metadata": {},
   "source": [
    "# Assignment 13 Solutions"
   ]
  },
  {
   "cell_type": "markdown",
   "id": "d8aab80a",
   "metadata": {},
   "source": [
    "#### 1. What advantages do Excel spreadsheets have over CSV spreadsheets?\n",
    "**Ans:** The Advantages of Excel over CSV are:\n",
    "1. Excel (XLS and XLSX) file formats are better for storing and analysing complex data.\n",
    "2. An Excel not only stores data but can also do operations on the data using macros, formulas etc\n",
    "3. CSV files are plain-text files, Does not contain formatting, formulas, macros, etc. It is also known as flat files"
   ]
  },
  {
   "cell_type": "markdown",
   "id": "b66e958d",
   "metadata": {},
   "source": [
    "#### 2.What do you pass to csv.reader() and csv.writer() to create reader and writer objects?"
   ]
  },
  {
   "cell_type": "code",
   "execution_count": 8,
   "id": "e7c67268",
   "metadata": {},
   "outputs": [
    {
     "name": "stdout",
     "output_type": "stream",
     "text": [
      "['HCL', '2021']\n",
      "['TCS', '2020']\n",
      "['INFOSYS', '2024']\n"
     ]
    }
   ],
   "source": [
    "import csv\n",
    "with open('TEST.csv','r') as file:\n",
    "    csv_file = csv.reader(file,delimiter=',')\n",
    "    for i in csv_file:\n",
    "        print(i)"
   ]
  },
  {
   "cell_type": "markdown",
   "id": "c3478f56",
   "metadata": {},
   "source": [
    "#### 3. What modes do File objects for reader and writer objects need to be opened in?\n",
    "**Ans:** For `csv.reader(iterable_file_object)`, the file objects needed to be opened in `read` mode `mode='r'` Whereas for `csv.writer(iterable_file_object)` the file objects needed to be opened in `write` mode `mode='w'`\n"
   ]
  },
  {
   "cell_type": "markdown",
   "id": "c2f017ec",
   "metadata": {},
   "source": [
    "#### 4. What method takes a list argument and writes it to a CSV file?\n",
    "**Ans:** csv.writer class provides two methods for writing to CSV. They are `writerow()` and `writerows().` writerow() method writes a single row at a time. Whereas writerows() method is used to write multiple rows at a time."
   ]
  },
  {
   "cell_type": "markdown",
   "id": "68179164",
   "metadata": {},
   "source": [
    "#### 5. What do the keyword arguments delimiter and line terminator do?\n",
    "**Ans:** Lets take the example of a csv file:  \n",
    "`First Name, Last Name, Age`  \n",
    "`virat, kohli, 33`  \n",
    "`ms, dhoni, 40`  \n",
    "Here `','` is Delimiter. We can use any Character as per our needs if required. Similarly Line Terminator comes at end of line by default it is newline and can be changed accourding to Requirement."
   ]
  },
  {
   "cell_type": "markdown",
   "id": "94752f89",
   "metadata": {},
   "source": [
    "#### 6. What function takes a string of JSON data and returns a Python data structure?\n",
    "**Ans:** `loads()` method takes a string of JSON data and returns a Python data structure"
   ]
  },
  {
   "cell_type": "markdown",
   "id": "d4d2d2a5",
   "metadata": {},
   "source": [
    "#### 7. What function takes a Python data structure and returns a string of JSON data?\n",
    "**Ans:** dumps() method takes a python data structure and returns a string of JSON data"
   ]
  },
  {
   "cell_type": "code",
   "execution_count": null,
   "id": "6af98295",
   "metadata": {},
   "outputs": [],
   "source": []
  }
 ],
 "metadata": {
  "kernelspec": {
   "display_name": "Python 3 (ipykernel)",
   "language": "python",
   "name": "python3"
  },
  "language_info": {
   "codemirror_mode": {
    "name": "ipython",
    "version": 3
   },
   "file_extension": ".py",
   "mimetype": "text/x-python",
   "name": "python",
   "nbconvert_exporter": "python",
   "pygments_lexer": "ipython3",
   "version": "3.9.7"
  }
 },
 "nbformat": 4,
 "nbformat_minor": 5
}
