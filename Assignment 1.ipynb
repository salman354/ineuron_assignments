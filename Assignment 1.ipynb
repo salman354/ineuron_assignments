{
 "cells": [
  {
   "cell_type": "markdown",
   "id": "de992376",
   "metadata": {},
   "source": [
    "# Assignment 1 Solutions\n"
   ]
  },
  {
   "cell_type": "markdown",
   "id": "abf0b763",
   "metadata": {},
   "source": [
    "#### 1. In the below elements which of them are values or an expression? eg:- values can be integer or string and expressions will be mathematical operators. *,'hello', -87.8,-,/,+,6"
   ]
  },
  {
   "cell_type": "markdown",
   "id": "f89edcfa",
   "metadata": {},
   "source": [
    "Ans:values or Expressions are: 'hello', 87.8, 6\n",
    "    operators are:*,-,+,/"
   ]
  },
  {
   "cell_type": "markdown",
   "id": "ef5121a0",
   "metadata": {},
   "source": [
    "#### 2. What is the difference between string and variable?"
   ]
  },
  {
   "cell_type": "markdown",
   "id": "ed6358f4",
   "metadata": {},
   "source": [
    "Ans:string:A String is a group of characters or a single character usually enclosed in Double quotes \"\" or single quotes''.\n",
    "variables:Variables are used to store data, they take memory space based on the type of value we assigning to them."
   ]
  },
  {
   "cell_type": "markdown",
   "id": "70ff810d",
   "metadata": {},
   "source": [
    "#### 3. Describe three different Data Types ?"
   ]
  },
  {
   "cell_type": "markdown",
   "id": "f5925cf8",
   "metadata": {},
   "source": [
    "Ans: Three fundamental Data types in python are int, float, complex.\n",
    "\n",
    "int data type: We can use int data type to represent whole numbers (integral values)                       \n",
    "float data type: We can use float data type to represent floating point values (decimal values)                    \n",
    "complex data type: Complex number is represented by complex class. It is specified as (real part) + (imaginary part)j."
   ]
  },
  {
   "cell_type": "markdown",
   "id": "6301028f",
   "metadata": {},
   "source": [
    "#### 4. What is an expression made up of? What do all expressions do? "
   ]
  },
  {
   "cell_type": "markdown",
   "id": "2042c1c9",
   "metadata": {},
   "source": [
    "Ans: An expression is a combination of values, variables, operators, and calls to functions. Expressions need to be evaluated. If we ask Python to print an expression, the interpreter evaluates the expression and displays the result."
   ]
  },
  {
   "cell_type": "markdown",
   "id": "d28a36e2",
   "metadata": {},
   "source": [
    "#### 5.This assignment statements, like spam = 10. What is the difference between an expression and a statement?"
   ]
  },
  {
   "cell_type": "markdown",
   "id": "98b17c0e",
   "metadata": {},
   "source": [
    "Ans: an “expression” is a combination of values and functions that are combined and interpreted by the compiler to create a new value, as opposed to a “statement” which is just a standalone unit of execution and doesn't return anything."
   ]
  },
  {
   "cell_type": "markdown",
   "id": "ec5759a8",
   "metadata": {},
   "source": [
    "#### 6.After running the following code, what does the variable bacon contain?\n",
    "bacon = 22\n",
    "\n",
    "bacon + 1\n"
   ]
  },
  {
   "cell_type": "markdown",
   "id": "89614c69",
   "metadata": {},
   "source": [
    "\n",
    "Ans:value of bacon will not change as we are not reassigning the value in bacon.so as we can see in below code bacon value is 22 even after running code."
   ]
  },
  {
   "cell_type": "code",
   "execution_count": 9,
   "id": "0182d61c",
   "metadata": {},
   "outputs": [
    {
     "name": "stdout",
     "output_type": "stream",
     "text": [
      "22\n"
     ]
    }
   ],
   "source": [
    "bacon = 22\n",
    "bacon + 1\n",
    "print(bacon)"
   ]
  },
  {
   "cell_type": "markdown",
   "id": "f31391f5",
   "metadata": {},
   "source": [
    "#### 7.What should the values of the following two terms be?\n",
    "\n",
    "'spam'+'spamspam'                       \n",
    "\n",
    "'spam'*3\n"
   ]
  },
  {
   "cell_type": "markdown",
   "id": "26fc2e1f",
   "metadata": {},
   "source": [
    "Ans: Both expressions evaluate to the string 'spamspamspam' Where as the first expression follows String Concatenation and the second expression follows String Multiplication."
   ]
  },
  {
   "cell_type": "code",
   "execution_count": 6,
   "id": "b7da6296",
   "metadata": {},
   "outputs": [
    {
     "name": "stdout",
     "output_type": "stream",
     "text": [
      "spamspamspam\n",
      "spamspamspam\n"
     ]
    }
   ],
   "source": [
    "print('spam'+'spamspam') # string concatenation\n",
    "print('spam'*3) # string multiplication"
   ]
  },
  {
   "cell_type": "markdown",
   "id": "d82d53e7",
   "metadata": {},
   "source": [
    "#### 8. Why is eggs a valid variable name while 100 is invalid?"
   ]
  },
  {
   "cell_type": "markdown",
   "id": "8fb974d7",
   "metadata": {},
   "source": [
    "Ans: As per python rule,Variable names cannot begin with a number. \n",
    "    \n",
    "The python rules for naming a variable are :-\n",
    "\n",
    "Variable name must start with a letter or the underscore character.                    \n",
    "Variable name cannot start with a number.                                 \n",
    "Variable name can only contain alpha-numeric characters and underscores (A-z, 0-9, & _ ).                  \n",
    "Variable names are case-sensitive (name, INEURON and ineuron are three different variables).                    \n",
    "The reserved words(keywords) cannot be used naming the variable.                          "
   ]
  },
  {
   "cell_type": "markdown",
   "id": "bbd72b4e",
   "metadata": {},
   "source": [
    "#### 9.What three functions can be used to get the integer,floating-point number,or string version of a value?"
   ]
  },
  {
   "cell_type": "markdown",
   "id": "936d285d",
   "metadata": {},
   "source": [
    " Ans: The int(),float(),and str() functions will evaluate to the integer,floating-point number,string version of the value passed to them."
   ]
  },
  {
   "cell_type": "markdown",
   "id": "d7ef257e",
   "metadata": {},
   "source": [
    "#### 10.Why does this expression cause an error? how can you fix it?\n",
    "'I have eaten ' + 99 + 'burritos.'"
   ]
  },
  {
   "cell_type": "markdown",
   "id": "a0f5d0bf",
   "metadata": {},
   "source": [
    "Ans: This cause of error is 99.because 99 is not a string. 99 must be typecasted to a string to fix this error. the correct way is:\n",
    "Input: 'I have eaten ' + str(99) + 'burritos.'\n",
    "Output: 'I have eaten 99 burritos."
   ]
  },
  {
   "cell_type": "code",
   "execution_count": null,
   "id": "89f9e0f6",
   "metadata": {},
   "outputs": [],
   "source": []
  }
 ],
 "metadata": {
  "kernelspec": {
   "display_name": "Python 3 (ipykernel)",
   "language": "python",
   "name": "python3"
  },
  "language_info": {
   "codemirror_mode": {
    "name": "ipython",
    "version": 3
   },
   "file_extension": ".py",
   "mimetype": "text/x-python",
   "name": "python",
   "nbconvert_exporter": "python",
   "pygments_lexer": "ipython3",
   "version": "3.9.7"
  }
 },
 "nbformat": 4,
 "nbformat_minor": 5
}
