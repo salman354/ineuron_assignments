{
 "cells": [
  {
   "cell_type": "markdown",
   "id": "6cec603a",
   "metadata": {},
   "source": [
    "# Assignment 1 Solutions\n"
   ]
  },
  {
   "cell_type": "markdown",
   "id": "1d1eb4ce",
   "metadata": {},
   "source": [
    "1. In the below elements which of them are values or an expression? eg:- values can be integer or string and expressions will be mathematical operators.\n",
    "*,'hello', -87.8,-,/,+,6\n",
    "\n",
    "Ans:values or Expressions are: 'hello', 87.8, 6\n",
    "    operators are:*,-,+,/"
   ]
  },
  {
   "cell_type": "markdown",
   "id": "f53a964a",
   "metadata": {},
   "source": [
    "2. What is the difference between string and variable?\n",
    "\n",
    "Ans:string:A String is a group of characters or a single character usually enclosed in Double quotes \"\" or single quotes''.\n",
    "variables:Variables are used to store data, they take memory space based on the type of value we assigning to them."
   ]
  },
  {
   "cell_type": "markdown",
   "id": "580644dc",
   "metadata": {},
   "source": [
    "3. Describe three different Data Types ?\n",
    "\n",
    "Ans: Three fundamental Data types in python are int, float, complex.\n",
    "\n",
    "int data type: We can use int data type to represent whole numbers (integral values)                       \n",
    "float data type: We can use float data type to represent floating point values (decimal values)                    \n",
    "complex data type: Complex number is represented by complex class. It is specified as (real part) + (imaginary part)j."
   ]
  },
  {
   "cell_type": "markdown",
   "id": "d3b7bb50",
   "metadata": {},
   "source": [
    "4. What is an expression made up of? What do all expressions do?  \n",
    "\n",
    "Ans: An expression is a combination of values, variables, operators, and calls to functions. Expressions need to be evaluated. If we ask Python to print an expression, the interpreter evaluates the expression and displays the result."
   ]
  },
  {
   "cell_type": "markdown",
   "id": "cc0c41f7",
   "metadata": {},
   "source": [
    "5.This assignment statements, like spam = 10. What is the difference between an expression and a statement? \n",
    "\n",
    "Ans: an “expression” is a combination of values and functions that are combined and interpreted by the compiler to create a new value, as opposed to a “statement” which is just a standalone unit of execution and doesn't return anything."
   ]
  },
  {
   "cell_type": "markdown",
   "id": "1282897d",
   "metadata": {},
   "source": [
    "6.After running the following code, what does the variable bacon contain?\n",
    "\n",
    "bacon = 22                                                                                                              \n",
    "bacon + 1\n",
    "\n",
    "Ans:value of bacon will not change as we are not reassigning the value in bacon.so as we can see in below code bacon value is 22 even after running code."
   ]
  },
  {
   "cell_type": "code",
   "execution_count": 4,
   "id": "d1362bfe",
   "metadata": {},
   "outputs": [
    {
     "name": "stdout",
     "output_type": "stream",
     "text": [
      "22\n"
     ]
    }
   ],
   "source": [
    "bacon = 22\n",
    "bacon + 1\n",
    "print(bacon)"
   ]
  },
  {
   "cell_type": "markdown",
   "id": "df828ea1",
   "metadata": {},
   "source": [
    "7.What should the values of the following two terms be?\n",
    "\n",
    "'spam'+'spamspam'                       \n",
    "\n",
    "'spam'*3\n",
    "\n",
    "Ans: Both expressions evaluate to the string 'spamspamspam' Where as the first expression follows String Concatenation and the second expression follows String Multiplication."
   ]
  },
  {
   "cell_type": "code",
   "execution_count": 6,
   "id": "193d575d",
   "metadata": {},
   "outputs": [
    {
     "name": "stdout",
     "output_type": "stream",
     "text": [
      "spamspamspam\n",
      "spamspamspam\n"
     ]
    }
   ],
   "source": [
    "print('spam'+'spamspam') # string concatenation\n",
    "print('spam'*3) # string multiplication"
   ]
  },
  {
   "cell_type": "markdown",
   "id": "f05d21f8",
   "metadata": {},
   "source": [
    "8. Why is eggs a valid variable name while 100 is invalid?\n",
    "Ans: As per python rule,Variable names cannot begin with a number. \n",
    "    \n",
    "The python rules for naming a variable are :-\n",
    "\n",
    "Variable name must start with a letter or the underscore character.                    \n",
    "Variable name cannot start with a number.                                 \n",
    "Variable name can only contain alpha-numeric characters and underscores (A-z, 0-9, & _ ).                  \n",
    "Variable names are case-sensitive (name, INEURON and ineuron are three different variables).                    \n",
    "The reserved words(keywords) cannot be used naming the variable.                          "
   ]
  },
  {
   "cell_type": "markdown",
   "id": "d18c6f95",
   "metadata": {},
   "source": [
    "9.What three functions can be used to get the integer,floating-point number,or string version of a value? \n",
    "\n",
    "Ans: The int(),float(),and str() functions will evaluate to the integer,floating-point number,string version of the value passed to them."
   ]
  },
  {
   "cell_type": "markdown",
   "id": "9fa5cc23",
   "metadata": {},
   "source": [
    "10.Why does this expression cause an error? how can you fix it?\n",
    "'I have eaten ' + 99 + 'burritos.'\n",
    "\n",
    "Ans: This cause of error is 99.because 99 is not a string. 99 must be typecasted to a string to fix this error. the correct way is:\n",
    "Input: 'I have eaten ' + str(99) + 'burritos.'\n",
    "Output: 'I have eaten 99 burritos."
   ]
  },
  {
   "cell_type": "code",
   "execution_count": null,
   "id": "8ca1df7d",
   "metadata": {},
   "outputs": [],
   "source": []
  }
 ],
 "metadata": {
  "kernelspec": {
   "display_name": "Python 3 (ipykernel)",
   "language": "python",
   "name": "python3"
  },
  "language_info": {
   "codemirror_mode": {
    "name": "ipython",
    "version": 3
   },
   "file_extension": ".py",
   "mimetype": "text/x-python",
   "name": "python",
   "nbconvert_exporter": "python",
   "pygments_lexer": "ipython3",
   "version": "3.9.7"
  }
 },
 "nbformat": 4,
 "nbformat_minor": 5
}
