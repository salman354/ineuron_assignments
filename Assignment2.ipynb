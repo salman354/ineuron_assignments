{
 "cells": [
  {
   "cell_type": "markdown",
   "id": "9117e408",
   "metadata": {},
   "source": [
    "#                                 Assignment 2 Solutions"
   ]
  },
  {
   "cell_type": "markdown",
   "id": "42b02834",
   "metadata": {},
   "source": [
    "#### 1.What are the two values of the boolean data types? how do you write them ?"
   ]
  },
  {
   "cell_type": "markdown",
   "id": "4997abf7",
   "metadata": {},
   "source": [
    "Ans: True and False are two values of the boolen data types. We have to use capital T and F and with the rest of the word in lowercase"
   ]
  },
  {
   "cell_type": "markdown",
   "id": "99ef144b",
   "metadata": {},
   "source": [
    "#### 2. What are the three different types of Boolean operators?"
   ]
  },
  {
   "cell_type": "markdown",
   "id": "a5cee375",
   "metadata": {},
   "source": [
    "Ans: The three differnt types of Boolean operators in python are: AND,OR,NOT."
   ]
  },
  {
   "cell_type": "markdown",
   "id": "7264ae71",
   "metadata": {},
   "source": [
    "#### 3. Make a list of each Boolean operator's truth tables (i.e. every possible combination of Boolean values for the operator and what it evaluate) ?"
   ]
  },
  {
   "cell_type": "markdown",
   "id": "a5b4bb5c",
   "metadata": {},
   "source": [
    "Ans: The Truth tables for the boolean tables are as follows:\n",
    "\n",
    "a.Truth Table for and operaotor\n",
    "True and True is True                  \n",
    "True and False is False                \n",
    "False and True is False              \n",
    "False and False is False                     \n",
    "\n",
    "b.Truth Table for or operaotor\n",
    "True and True is True            \n",
    "True and False is True              \n",
    "False and True is True             \n",
    "False and False is False                      \n",
    "\n",
    "c.Truth Table for not operaotor                              \n",
    "True not is False False not is True                 "
   ]
  },
  {
   "cell_type": "markdown",
   "id": "278581c6",
   "metadata": {},
   "source": [
    "#### 4. What are the values of the following expressions ?"
   ]
  },
  {
   "cell_type": "markdown",
   "id": "47cffcd5",
   "metadata": {},
   "source": [
    "(5 > 4) and (3 == 5)  \n",
    "not (5 > 4)  \n",
    "(5 > 4) or (3 == 5)  \n",
    "not ((5 > 4) or (3 == 5))  \n",
    "(True and True) and (True == False)  \n",
    "(not False) or (not True)  "
   ]
  },
  {
   "cell_type": "code",
   "execution_count": 24,
   "id": "032eeae4",
   "metadata": {},
   "outputs": [
    {
     "name": "stdout",
     "output_type": "stream",
     "text": [
      "False\n",
      "False\n",
      "True\n",
      "False\n",
      "False\n",
      "True\n"
     ]
    }
   ],
   "source": [
    "print((5>4)and(3==5)) # False\n",
    "print(not(5>4)) # False\n",
    "print((5>4)or(3==5)) # True\n",
    "print(not((5>4)or(3==5))) # False\n",
    "print((True and True)and(True==False)) # False\n",
    "print((not False)or(not True)) # True"
   ]
  },
  {
   "cell_type": "markdown",
   "id": "36c1c4c1",
   "metadata": {},
   "source": [
    "#### 5. What are the six comparison operators?   "
   ]
  },
  {
   "cell_type": "markdown",
   "id": "21c89a73",
   "metadata": {},
   "source": [
    "Ans: The Six comparision operators available in python are:           \n",
    "== , != , < , > , <= , =>"
   ]
  },
  {
   "cell_type": "markdown",
   "id": "302201d8",
   "metadata": {},
   "source": [
    "#### 6. How do you tell the difference between the equal to and assignment operators?Describe a condition and when you would use one ?"
   ]
  },
  {
   "cell_type": "markdown",
   "id": "4d1129f1",
   "metadata": {},
   "source": [
    " Ans: '==' is the equal to operator that compares two values and evaluates to a Boolean, while '=' is a assignment operator that assign a value in a variable."
   ]
  },
  {
   "cell_type": "code",
   "execution_count": 25,
   "id": "de6e1282",
   "metadata": {},
   "outputs": [
    {
     "name": "stdout",
     "output_type": "stream",
     "text": [
      "True\n"
     ]
    }
   ],
   "source": [
    "a=5 # Assigning operator that assign 5 in a variable a\n",
    "if a==5:#comparing values of a varible value and 5\n",
    "    print(a==5) "
   ]
  },
  {
   "cell_type": "markdown",
   "id": "c65f7023",
   "metadata": {},
   "source": [
    "#### 7. Identify the three blocks in this code:"
   ]
  },
  {
   "cell_type": "markdown",
   "id": "3ce5c526",
   "metadata": {},
   "source": [
    "spam = 0         \n",
    "if spam == 10:              \n",
    "print('eggs')             \n",
    "if spam > 5:               \n",
    "print('bacon')                 \n",
    "else:              \n",
    "print('ham')                   \n",
    "print('spam')              \n",
    "print('spam')               \n",
    "\n",
    "\n",
    "Ans: In Python, code block refers to a collection of code that is in the same block or indent. This is most commonly found in classes, functions, and loops."
   ]
  },
  {
   "cell_type": "code",
   "execution_count": 26,
   "id": "c4df9331",
   "metadata": {},
   "outputs": [
    {
     "name": "stdout",
     "output_type": "stream",
     "text": [
      "ham\n",
      "spam\n",
      "spam\n"
     ]
    }
   ],
   "source": [
    "spam = 0  \n",
    "if spam == 10:  \n",
    "    print('eggs')  # block #1\n",
    "if spam > 5:  \n",
    "    print('bacon')  # block #2\n",
    "else:  \n",
    "    print('ham')  # block #3\n",
    "print('spam')  \n",
    "print('spam')"
   ]
  },
  {
   "cell_type": "markdown",
   "id": "6b3d0acf",
   "metadata": {},
   "source": [
    "#### 8. Write code that prints Hello if 1 is stored in spam, prints Howdy if 2 is stored in spam, and prints Greetings! if anything else is stored in spam."
   ]
  },
  {
   "cell_type": "code",
   "execution_count": 27,
   "id": "30fc166b",
   "metadata": {},
   "outputs": [
    {
     "name": "stdout",
     "output_type": "stream",
     "text": [
      "Hello\n",
      "Howdy\n",
      "Greetings\n"
     ]
    }
   ],
   "source": [
    "def fun1(spam):\n",
    "    if spam==1:\n",
    "        print('Hello')\n",
    "    elif spam==2:\n",
    "        print('Howdy')\n",
    "    else:\n",
    "        print('Greetings')\n",
    "        \n",
    "fun1(1) \n",
    "fun1(2)\n",
    "fun1(3)"
   ]
  },
  {
   "cell_type": "markdown",
   "id": "95005b03",
   "metadata": {},
   "source": [
    "#### 9.If your programme is stuck in an endless loop, what keys you’ll press?"
   ]
  },
  {
   "cell_type": "markdown",
   "id": "d7b3b886",
   "metadata": {},
   "source": [
    "Ans: Press Ctrl-c to stop a program stuck in an infinite loop"
   ]
  },
  {
   "cell_type": "markdown",
   "id": "721bd414",
   "metadata": {},
   "source": [
    "#### 10. How can you tell the difference between break and continue?"
   ]
  },
  {
   "cell_type": "markdown",
   "id": "abb5d559",
   "metadata": {},
   "source": [
    "Ans: The break statement will move the execution outside the loop if break condtion is satisfied. Whereas the continue statement will move the execution to the start of the loop."
   ]
  },
  {
   "cell_type": "markdown",
   "id": "d52ef24d",
   "metadata": {},
   "source": [
    "#### 11. In a for loop, what is the difference between range(10), range(0, 10), and range(0, 10, 1)?"
   ]
  },
  {
   "cell_type": "markdown",
   "id": "e216101a",
   "metadata": {},
   "source": [
    "Ans: The Differences are as follows:\n",
    "\n",
    "The range(10) call range from 0 to 9 (but not include 10)  \n",
    "The range (0,10) explicitly tells the loop to start at 0  \n",
    "The range(0,10,1) explicitly tells the loop to increase the variable by 1 on each iteration  "
   ]
  },
  {
   "cell_type": "markdown",
   "id": "424da947",
   "metadata": {},
   "source": [
    "#### 12. Write a short program that prints the numbers 1 to 10 using a for loop. Then write an equivalent program that prints the numbers 1 to 10 using a while loop ?"
   ]
  },
  {
   "cell_type": "code",
   "execution_count": 28,
   "id": "f74d0954",
   "metadata": {},
   "outputs": [
    {
     "name": "stdout",
     "output_type": "stream",
     "text": [
      "1 2 3 4 5 6 7 8 9 10 "
     ]
    }
   ],
   "source": [
    "for i in range(1,11):\n",
    "    print(i,end=\" \")\n",
    "    "
   ]
  },
  {
   "cell_type": "code",
   "execution_count": 29,
   "id": "07cc66f2",
   "metadata": {},
   "outputs": [
    {
     "name": "stdout",
     "output_type": "stream",
     "text": [
      "1 2 3 4 5 6 7 8 9 10 "
     ]
    }
   ],
   "source": [
    "i=1\n",
    "while i<=10:\n",
    "    print(i,end=\" \")\n",
    "    i+=1"
   ]
  },
  {
   "cell_type": "markdown",
   "id": "eab00e01",
   "metadata": {},
   "source": [
    "#### 13. If you had a function named bacon() inside a module named spam, how would you call it after importing spam ?"
   ]
  },
  {
   "cell_type": "markdown",
   "id": "a5868b55",
   "metadata": {},
   "source": [
    "\n",
    "Ans: spam.bacon()"
   ]
  },
  {
   "cell_type": "code",
   "execution_count": null,
   "id": "114bd49f",
   "metadata": {},
   "outputs": [],
   "source": []
  }
 ],
 "metadata": {
  "kernelspec": {
   "display_name": "Python 3 (ipykernel)",
   "language": "python",
   "name": "python3"
  },
  "language_info": {
   "codemirror_mode": {
    "name": "ipython",
    "version": 3
   },
   "file_extension": ".py",
   "mimetype": "text/x-python",
   "name": "python",
   "nbconvert_exporter": "python",
   "pygments_lexer": "ipython3",
   "version": "3.9.7"
  }
 },
 "nbformat": 4,
 "nbformat_minor": 5
}
